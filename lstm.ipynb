{
 "cells": [
  {
   "cell_type": "code",
   "execution_count": 1,
   "id": "56b3a8d8-9899-4f96-8afd-78a777b8d28d",
   "metadata": {},
   "outputs": [],
   "source": [
    "import torch\n",
    "import torch.optim as optim\n",
    "import torch.nn as nn\n",
    "import torch.nn.functional as F"
   ]
  },
  {
   "cell_type": "markdown",
   "id": "bbd8e4d8-8ef6-4e77-87e1-045055b226ef",
   "metadata": {},
   "source": [
    "![image](https://i.imgur.com/Xp0Jmr1.png)"
   ]
  },
  {
   "cell_type": "code",
   "execution_count": 2,
   "id": "6a011d3d-7ba3-4ad1-874c-6b046c12f93b",
   "metadata": {},
   "outputs": [],
   "source": [
    "class LSTM(nn.Module):\n",
    "    \n",
    "    def __init__(self):\n",
    "        super().__init__()\n",
    "        mean = torch.tensor(0.0)\n",
    "        std = torch.tensor(1.0)\n",
    "\n",
    "        # Forget gate (blue - b)\n",
    "        self.wbh = nn.Parameter(torch.normal(mean=mean, std=std), requires_grad=True)\n",
    "        self.wbi = nn.Parameter(torch.normal(mean=mean, std=std), requires_grad=True)\n",
    "        self.bb = nn.Parameter(torch.tensor(0.), requires_grad=True)\n",
    "\n",
    "        # Update gate (green - g)\n",
    "        self.wgh = nn.Parameter(torch.normal(mean=mean, std=std), requires_grad=True)\n",
    "        self.wgi = nn.Parameter(torch.normal(mean=mean, std=std), requires_grad=True)\n",
    "        self.bg = nn.Parameter(torch.tensor(0.), requires_grad=True)\n",
    "\n",
    "        # Update gate (yellow - y)\n",
    "        self.wyh = nn.Parameter(torch.normal(mean=mean, std=std), requires_grad=True)\n",
    "        self.wyi = nn.Parameter(torch.normal(mean=mean, std=std), requires_grad=True)\n",
    "        self.by = nn.Parameter(torch.tensor(0.), requires_grad=True)\n",
    "    \n",
    "        # Output gate (purple - p)\n",
    "        self.wph = nn.Parameter(torch.normal(mean=mean, std=std), requires_grad=True)\n",
    "        self.wpi = nn.Parameter(torch.normal(mean=mean, std=std), requires_grad=True)\n",
    "        self.bp = nn.Parameter(torch.tensor(0.), requires_grad=True)\n",
    "\n",
    "    def _lstm_unit(self, input_val, long_mem, short_mem):\n",
    "        # Blue part\n",
    "        long_mem_forget = torch.sigmoid((short_mem * self.wbh) +\n",
    "                                        (input_val * self.wbi) +\n",
    "                                        self.bb)\n",
    "        # Green part\n",
    "        long_mem_rememb = torch.sigmoid((short_mem * self.wgh) +\n",
    "                                        (input_val * self.wgi) +\n",
    "                                        self.bg)\n",
    "        # Yellow part\n",
    "        long_mem_update = torch.tanh((short_mem * self.wyh) +\n",
    "                                     (input_val * self.wyi) +\n",
    "                                     self.by)\n",
    "        # Update long_mem\n",
    "        long_mem = (long_mem * long_mem_forget) + (long_mem_rememb * long_mem_update)\n",
    "\n",
    "        # Purple part\n",
    "        short_mem_rememb = torch.sigmoid((short_mem * self.wph) +\n",
    "                                         (input_val * self.wpi) +\n",
    "                                         self.bp)\n",
    "        # Update short_mem\n",
    "        short_mem = torch.tanh(long_mem) * short_mem_rememb\n",
    "\n",
    "        return [long_mem, short_mem]\n",
    "\n",
    "    def forward(self, x):\n",
    "        long_mem = 0\n",
    "        short_mem = 0\n",
    "        input_t1 = x[0]\n",
    "        input_t2 = x[1]\n",
    "        input_t3 = x[2]\n",
    "        input_t4 = x[3]\n",
    "\n",
    "        # Unroll\n",
    "        long_mem, short_mem = self._lstm_unit(input_t1, long_mem, short_mem)\n",
    "        long_mem, short_mem = self._lstm_unit(input_t2, long_mem, short_mem)\n",
    "        long_mem, short_mem = self._lstm_unit(input_t3, long_mem, short_mem)\n",
    "        long_mem, short_mem = self._lstm_unit(input_t4, long_mem, short_mem)\n",
    "\n",
    "        return short_mem"
   ]
  },
  {
   "cell_type": "markdown",
   "id": "56bf9db3-6e9c-40ec-bcef-2908199e6ce2",
   "metadata": {},
   "source": [
    "## Demo"
   ]
  },
  {
   "cell_type": "code",
   "execution_count": 3,
   "id": "a968dcbe-e045-4fa6-85e8-cc0d17a335b7",
   "metadata": {},
   "outputs": [],
   "source": [
    "x = torch.tensor([1, 0.5, 0.3, 0.6])\n",
    "y = torch.tensor(1.)"
   ]
  },
  {
   "cell_type": "code",
   "execution_count": 4,
   "id": "3c0e9949-2859-441e-a492-2cdf36cbd68f",
   "metadata": {},
   "outputs": [],
   "source": [
    "model = LSTM()\n",
    "criterion = nn.MSELoss()\n",
    "\n",
    "optimizer = optim.Adam(model.parameters(), lr=0.1)"
   ]
  },
  {
   "cell_type": "code",
   "execution_count": 5,
   "id": "86ec9436-b086-40e9-ae63-4c005def2867",
   "metadata": {},
   "outputs": [
    {
     "name": "stdout",
     "output_type": "stream",
     "text": [
      "Step 0: -0.168497234582901\n",
      "Step 1: -0.09421718120574951\n",
      "Step 2: -0.04200140759348869\n",
      "Step 3: -0.005702103953808546\n",
      "Step 4: 0.019625108689069748\n",
      "Step 5: 0.037882205098867416\n",
      "Step 6: 0.052193496376276016\n",
      "Step 7: 0.06497599184513092\n",
      "Step 8: 0.07804455608129501\n",
      "Step 9: 0.0928073450922966\n"
     ]
    }
   ],
   "source": [
    "model.train()\n",
    "\n",
    "for step in range(10):\n",
    "    output = model(x)\n",
    "    loss = criterion(output, y)\n",
    "    \n",
    "    optimizer.zero_grad()\n",
    "    loss.backward()\n",
    "    optimizer.step()\n",
    "    \n",
    "    print(f\"Step {step}: {output}\")"
   ]
  },
  {
   "cell_type": "markdown",
   "id": "59a3c1e6-a89c-4936-a753-eed417ebd16f",
   "metadata": {},
   "source": [
    "## Demo 2"
   ]
  },
  {
   "cell_type": "code",
   "execution_count": 6,
   "id": "ada76f88-f9c0-4b4a-90c6-0d680cf36e1c",
   "metadata": {},
   "outputs": [],
   "source": [
    "x1 = torch.tensor([1, 0.5, 0.3, 0.6])\n",
    "y1 = torch.tensor(1.)\n",
    "\n",
    "x2 = torch.tensor([0, 0.5, 0.3, 0.6])\n",
    "y2 = torch.tensor(0.)"
   ]
  },
  {
   "cell_type": "code",
   "execution_count": 7,
   "id": "1b2a35c3-7493-44dd-8290-cc4d2c1710e3",
   "metadata": {},
   "outputs": [],
   "source": [
    "model = LSTM()\n",
    "criterion = nn.MSELoss()\n",
    "\n",
    "optimizer = optim.Adam(model.parameters(), lr=0.03)"
   ]
  },
  {
   "cell_type": "code",
   "execution_count": 8,
   "id": "6b8de6d6-89b0-425c-bbd7-efe27dc30ba8",
   "metadata": {},
   "outputs": [
    {
     "name": "stdout",
     "output_type": "stream",
     "text": [
      "Step 0: 0.001 0.001\n",
      "Step 10: 0.311 0.309\n",
      "Step 20: 0.666 0.648\n",
      "Step 30: 0.523 0.513\n",
      "Step 40: 0.469 0.458\n",
      "Step 50: 0.556 0.530\n",
      "Step 60: 0.549 0.503\n",
      "Step 70: 0.570 0.475\n",
      "Step 80: 0.634 0.399\n",
      "Step 90: 0.795 0.110\n",
      "Step 100: 0.967 0.032\n",
      "Step 110: 0.983 0.032\n",
      "Step 120: 0.986 0.002\n",
      "Step 130: 0.987 -0.010\n",
      "Step 140: 0.988 0.008\n",
      "Step 150: 0.988 -0.004\n",
      "Step 160: 0.988 0.003\n",
      "Step 170: 0.988 -0.002\n",
      "Step 180: 0.988 0.001\n",
      "Step 190: 0.988 -0.000\n"
     ]
    }
   ],
   "source": [
    "model.train()\n",
    "\n",
    "for step in range(200):\n",
    "    output1 = model(x1)\n",
    "    output2 = model(x2)\n",
    "    loss1 = criterion(output1, y1)\n",
    "    loss2 = criterion(output2, y2)\n",
    "    loss = loss1 + loss2 \n",
    "    \n",
    "    optimizer.zero_grad()\n",
    "    loss.backward()\n",
    "    optimizer.step()\n",
    "\n",
    "    if step % 10 == 0:\n",
    "        print(f\"Step {step}: {output1:.3f} {output2:.3f}\")"
   ]
  },
  {
   "cell_type": "code",
   "execution_count": null,
   "id": "ba9b3e13-8d4e-43a3-843e-b14f05bfa91f",
   "metadata": {},
   "outputs": [],
   "source": []
  }
 ],
 "metadata": {
  "kernelspec": {
   "display_name": "Python 3 (ipykernel)",
   "language": "python",
   "name": "python3"
  },
  "language_info": {
   "codemirror_mode": {
    "name": "ipython",
    "version": 3
   },
   "file_extension": ".py",
   "mimetype": "text/x-python",
   "name": "python",
   "nbconvert_exporter": "python",
   "pygments_lexer": "ipython3",
   "version": "3.8.1"
  }
 },
 "nbformat": 4,
 "nbformat_minor": 5
}
